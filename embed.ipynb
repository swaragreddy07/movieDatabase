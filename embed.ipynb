{
 "cells": [
  {
   "cell_type": "code",
   "execution_count": 1,
   "metadata": {},
   "outputs": [
    {
     "name": "stderr",
     "output_type": "stream",
     "text": [
      "c:\\Users\\sunny\\AppData\\Local\\Programs\\Python\\Python312\\Lib\\site-packages\\tqdm\\auto.py:21: TqdmWarning: IProgress not found. Please update jupyter and ipywidgets. See https://ipywidgets.readthedocs.io/en/stable/user_install.html\n",
      "  from .autonotebook import tqdm as notebook_tqdm\n"
     ]
    }
   ],
   "source": [
    "#importing the required libraries\n",
    "import pandas as pd\n",
    "from sentence_transformers import SentenceTransformer\n",
    "import faiss\n",
    "from clean_data import dataset\n",
    "\n"
   ]
  },
  {
   "cell_type": "code",
   "execution_count": 2,
   "metadata": {},
   "outputs": [],
   "source": [
    "# iniitalizing the model\n",
    "model = SentenceTransformer(\"distilbert-base-nli-mean-tokens\")\n",
    "\n",
    "# setting priority weights to columns\n",
    "weights = {\n",
    "    \"Series_Title\": 15,\n",
    "    \"Genre\": 13,\n",
    "    \"Director\": 9,\n",
    "    \"Star1\": 9,\n",
    "    \"Star2\": 9,\n",
    "    \"Overview\": 3,\n",
    "    \"IMDB_Rating\": 1\n",
    "}\n",
    "\n",
    "# embeding the columns\n",
    "embeddings = {}\n",
    "for column, weight in weights.items():\n",
    "    embeddings[column] = model.encode(dataset[column].astype(str))\n",
    "\n",
    "\n",
    "# combining the columns and multiplying the weights\n",
    "\n",
    "combined_embeddings = None\n",
    "for column, weight in weights.items():\n",
    "    if combined_embeddings is None:\n",
    "        combined_embeddings = embeddings[column] * weight\n",
    "    else:\n",
    "        combined_embeddings += embeddings[column] * weight\n",
    "\n"
   ]
  },
  {
   "cell_type": "code",
   "execution_count": 5,
   "metadata": {},
   "outputs": [],
   "source": [
    "# initilalizing the faiss index\n",
    "dimension = 768\n",
    "index = faiss.IndexFlatL2(dimension)\n",
    "faiss.normalize_L2(combined_embeddings)\n",
    "index.add(combined_embeddings)\n",
    "\n"
   ]
  },
  {
   "cell_type": "code",
   "execution_count": 6,
   "metadata": {},
   "outputs": [
    {
     "name": "stdout",
     "output_type": "stream",
     "text": [
      "Index saved successfully to: faiss.pkl\n"
     ]
    }
   ],
   "source": [
    "# making a pickle file\n",
    "import pickle\n",
    "pickle_file_path = 'faiss.pkl'\n",
    "with open(pickle_file_path, 'wb') as f:\n",
    "    pickle.dump(index, f)\n",
    "\n",
    "print(\"Index saved successfully to:\", pickle_file_path)"
   ]
  }
 ],
 "metadata": {
  "kernelspec": {
   "display_name": ".venv",
   "language": "python",
   "name": "python3"
  },
  "language_info": {
   "codemirror_mode": {
    "name": "ipython",
    "version": 3
   },
   "file_extension": ".py",
   "mimetype": "text/x-python",
   "name": "python",
   "nbconvert_exporter": "python",
   "pygments_lexer": "ipython3",
   "version": "3.12.2"
  }
 },
 "nbformat": 4,
 "nbformat_minor": 2
}
